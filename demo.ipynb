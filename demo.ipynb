{
 "cells": [
  {
   "cell_type": "code",
   "execution_count": 1,
   "metadata": {},
   "outputs": [],
   "source": [
    "from sklearn.preprocessing import OneHotEncoder\n",
    "from py_boost import GradientBoosting\n",
    "\n",
    "\n",
    "import numpy as np\n",
    "import copy\n",
    "from sklearn.preprocessing import PolynomialFeatures\n",
    "from gcforest import *\n",
    "from data.dataset import *\n",
    "from sklearn.model_selection import KFold, StratifiedKFold\n",
    "import random\n",
    "import ray"
   ]
  },
  {
   "cell_type": "code",
   "execution_count": 2,
   "metadata": {},
   "outputs": [],
   "source": [
    "from data.dataset import *\n",
    "X_train, y_train, X_test, y_test=get_data('adult')"
   ]
  },
  {
   "cell_type": "code",
   "execution_count": 3,
   "metadata": {},
   "outputs": [],
   "source": [
    "from sklearn.preprocessing import OneHotEncoder\n",
    "one_hot = OneHotEncoder(sparse_output=False).fit(y_train.reshape(-1,1))\n",
    "from py_boost import GradientBoosting\n",
    "clf = GradientBoosting('bce', lr=0.3, colsample=0.3, verbose=-1)\n",
    "clf.fit(X_train, one_hot.transform(y_train.reshape(-1,1)))\n",
    "weights = clf.get_feature_importance()\n",
    "weights = [w / sum(weights) for w in weights]"
   ]
  },
  {
   "cell_type": "code",
   "execution_count": 4,
   "metadata": {},
   "outputs": [
    {
     "name": "stdout",
     "output_type": "stream",
     "text": [
      "layer index:0\n",
      "val  acc:87.16869875003839 \n",
      "layer index:1\n",
      "val  acc:86.45926107920519 \n",
      "layer index:2\n",
      "val  acc:86.48997266668714 \n",
      "layer index:3\n",
      "val  acc:86.59439206412578 \n",
      "layer index:4\n",
      "val  acc:86.6619575565861 \n",
      "layer index:5\n",
      "val  acc:86.83394244648505 \n",
      "layer index:6\n",
      "val  acc:86.71109609655723 \n",
      "layer index:7\n",
      "val  acc:86.82472897024047 \n",
      "layer index:8\n",
      "val  acc:86.90457909769356 \n",
      "layer index:9\n",
      "val  acc:87.00592733638402 \n",
      "layer index:10\n",
      "val  acc:87.0243542888732 \n",
      "layer index:11\n",
      "val  acc:87.0182119713768 \n",
      "layer index:12\n",
      "val  acc:86.99057154264304 \n",
      "layer index:13\n",
      "val  acc:87.19941033752035 \n",
      "layer index:14\n",
      "val  acc:87.0182119713768 \n",
      "layer  0\n",
      "layer  1\n",
      "layer  2\n",
      "layer  3\n",
      "layer  4\n",
      "layer  5\n",
      "layer  6\n",
      "layer  7\n",
      "layer  8\n",
      "layer  9\n",
      "layer  10\n",
      "layer  11\n",
      "layer  12\n",
      "layer  13\n",
      "layer  14\n"
     ]
    }
   ],
   "source": [
    "\n",
    "aug_policy_schedule = [['layer: 0', 0.2, 0.5], ['layer: 1', 0.5, 0.4], ['layer: 2', 0.5, 0.4], ['layer: 3', 0.5, 0.4], ['layer: 4', 0.5, 0.4], ['layer: 5', 0.5, 0.4], ['layer: 6', 0.5, 0.4], ['layer: 7', 0.7, 0.2], ['layer: 8', 0.7, 0.1], ['layer: 9', 0.7, 0.1], ['layer: 10', 0.2, 0.6], ['layer: 11', 0.2, 0.6], ['layer: 12', 0.2, 0.6], ['layer: 13', 0.2, 0.5], ['layer: 14', 0.2, 0.5]]\n",
    "df = gcForest(encoder=one_hot, weights=weights, classifier='sketch',means=np.mean(X_train, axis=0),std=np.std(X_train, axis=0), random_state=42, num_estimator=150, num_forests=1, max_features=0.3, num_classes=3, n_fold=5, max_layer=15, aug_policy_schedule=aug_policy_schedule)\n",
    "\n",
    "df.fit(X_train, y_train)\n",
    "y_pred=df.predict(X_test)\n"
   ]
  },
  {
   "cell_type": "code",
   "execution_count": 5,
   "metadata": {},
   "outputs": [
    {
     "name": "stdout",
     "output_type": "stream",
     "text": [
      "模型准确度: 0.8748234137952214\n"
     ]
    }
   ],
   "source": [
    "from sklearn.metrics import accuracy_score\n",
    "accuracy = accuracy_score(y_test, y_pred)\n",
    "print(\"模型准确度:\", accuracy)"
   ]
  },
  {
   "cell_type": "code",
   "execution_count": 6,
   "metadata": {},
   "outputs": [
    {
     "name": "stdout",
     "output_type": "stream",
     "text": [
      "layer  0\n",
      "test acc:  87.50076776610773\n",
      "ensemble acc:  87.48234137952214\n",
      "layer  1\n",
      "test acc:  87.33493028683742\n",
      "ensemble acc:  87.33493028683742\n",
      "layer  2\n",
      "test acc:  87.3042196425281\n",
      "ensemble acc:  87.40249370431792\n",
      "layer  3\n",
      "test acc:  87.39020944659418\n",
      "ensemble acc:  87.36564093114674\n",
      "layer  4\n",
      "test acc:  87.40249370431792\n",
      "ensemble acc:  87.40249370431792\n",
      "layer  5\n",
      "test acc:  87.4393464774891\n",
      "ensemble acc:  87.45777286407468\n",
      "layer  6\n",
      "test acc:  87.47619925066029\n",
      "ensemble acc:  87.46391499293655\n",
      "layer  7\n",
      "test acc:  87.34721454456114\n",
      "ensemble acc:  87.51919415269333\n",
      "layer  8\n",
      "test acc:  87.38406731773233\n",
      "ensemble acc:  87.50076776610773\n",
      "layer  9\n",
      "test acc:  87.39635157545605\n",
      "ensemble acc:  87.51305202383146\n",
      "layer  10\n",
      "test acc:  87.49462563724587\n",
      "ensemble acc:  87.5069098949696\n",
      "layer  11\n",
      "test acc:  87.42706221976538\n",
      "ensemble acc:  87.50076776610773\n",
      "layer  12\n",
      "test acc:  87.49462563724587\n",
      "ensemble acc:  87.49462563724587\n",
      "layer  13\n",
      "test acc:  87.53762053927892\n",
      "ensemble acc:  87.48848350838401\n",
      "layer  14\n",
      "test acc:  87.54990479700264\n",
      "ensemble acc:  87.48234137952214\n"
     ]
    },
    {
     "data": {
      "text/plain": [
       "array([0, 0, 0, ..., 1, 0, 1])"
      ]
     },
     "execution_count": 6,
     "metadata": {},
     "output_type": "execute_result"
    }
   ],
   "source": [
    "# or you can use this\n",
    "df.score(X_test, y_test)"
   ]
  }
 ],
 "metadata": {
  "kernelspec": {
   "display_name": "forest",
   "language": "python",
   "name": "python3"
  },
  "language_info": {
   "codemirror_mode": {
    "name": "ipython",
    "version": 3
   },
   "file_extension": ".py",
   "mimetype": "text/x-python",
   "name": "python",
   "nbconvert_exporter": "python",
   "pygments_lexer": "ipython3",
   "version": "3.9.17"
  }
 },
 "nbformat": 4,
 "nbformat_minor": 2
}
